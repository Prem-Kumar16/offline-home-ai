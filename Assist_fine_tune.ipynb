{
 "cells": [
  {
   "cell_type": "markdown",
   "id": "49b34dce-600c-47a1-a877-08e1fd74f85f",
   "metadata": {},
   "source": [
    "## Installing and importing necessary libraries"
   ]
  },
  {
   "cell_type": "code",
   "execution_count": 1,
   "id": "c9199b97-acb7-4a0b-bbe1-df9654119d20",
   "metadata": {},
   "outputs": [
    {
     "name": "stdout",
     "output_type": "stream",
     "text": [
      "\u001b[33mWARNING: Error parsing dependencies of devscripts: Invalid version: '2.22.1ubuntu1'\u001b[0m\u001b[33m\n",
      "\u001b[0m"
     ]
    }
   ],
   "source": [
    "!pip install -q transformers datasets peft accelerate bitsandbytes trl huggingface_hub"
   ]
  },
  {
   "cell_type": "code",
   "execution_count": 2,
   "id": "2a5c666f-5ddf-4de5-9eb3-083807725690",
   "metadata": {},
   "outputs": [],
   "source": [
    "from transformers import AutoTokenizer, AutoModelForCausalLM, TrainingArguments, Trainer\n",
    "from peft import LoraConfig, get_peft_model, prepare_model_for_kbit_training, TaskType\n",
    "from datasets import load_dataset\n",
    "from trl import SFTTrainer\n",
    "import torch"
   ]
  },
  {
   "cell_type": "markdown",
   "id": "c6dcf9b1-46aa-43fa-8344-9652b1735dfd",
   "metadata": {},
   "source": [
    "## Model and tokenizer Initialization"
   ]
  },
  {
   "cell_type": "markdown",
   "id": "0dcf413e-48cd-4017-944c-7bc7fd3de875",
   "metadata": {},
   "source": [
    "* Defines the model name as \"TinyLlama/TinyLlama-1.1B-Chat-v1.0\", a lightweight, chat-optimized language model suitable for resource-constrained environments like Raspberry Pi.\n",
    "\n",
    "* Loads the tokenizer using AutoTokenizer, ensuring fast tokenization and setting the padding token to the model's end-of-sequence (eos) token for compatibility.\n",
    "\n",
    "* Loads the TinyLlama model for causal language modeling with AutoModelForCausalLM.\n",
    "\n",
    "    * device_map=\"auto\" automatically selects the best device (CPU/GPU).\n",
    "    * torch_dtype=torch.bfloat16 uses bfloat16 precision for efficient computation.\n",
    "    * trust_remote_code=True allows loading custom code from the model repository.\n",
    "\n",
    "This setup guarantees that the TinyLlama model is ready for further fine-tuning and training steps, optimized for use in a voice-activated home automation system."
   ]
  },
  {
   "cell_type": "code",
   "execution_count": 3,
   "id": "f3c2976a-14d7-4e1b-8166-7065eacb2fcd",
   "metadata": {},
   "outputs": [
    {
     "name": "stderr",
     "output_type": "stream",
     "text": [
      "`torch_dtype` is deprecated! Use `dtype` instead!\n"
     ]
    }
   ],
   "source": [
    "model_name = \"TinyLlama/TinyLlama-1.1B-Chat-v1.0\"\n",
    "\n",
    "tokenizer = AutoTokenizer.from_pretrained(model_name, use_fast=True)\n",
    "tokenizer.pad_token = tokenizer.eos_token\n",
    "\n",
    "model = AutoModelForCausalLM.from_pretrained(\n",
    "    model_name,\n",
    "    device_map=\"auto\",\n",
    "    torch_dtype=torch.bfloat16,\n",
    "    trust_remote_code=True\n",
    ")"
   ]
  },
  {
   "cell_type": "markdown",
   "id": "1c7ba48e-2db3-489a-aeac-1bc82fead908",
   "metadata": {},
   "source": [
    "## PEFT with LoRA"
   ]
  },
  {
   "cell_type": "markdown",
   "id": "43025e0f-b09f-410d-b0f6-3f30daee7903",
   "metadata": {},
   "source": [
    "This cell configures the model for parameter-efficient fine-tuning (PEFT) using Low-Rank Adaptation (LoRA).\n",
    "\n",
    "#### Model preparation\n",
    "The base TinyLlama model is adapted for low-bit (k-bit) training through prepare_model_for_kbit_training, which optimizes it for memory-efficient fine-tuning.\n",
    "\n",
    "#### LoRA configuration\n",
    "The LoraConfig specifies hyperparameters:\n",
    "\n",
    "* Rank (r=32) and scaling factor (lora_alpha=64) determine the capacity and influence of the low-rank matrices.\n",
    "* Target modules (q_proj, k_proj, v_proj, o_proj, up_proj, down_proj) indicate where LoRA adapters are injected within the transformer architecture.\n",
    "* Dropout (0.05) adds regularization to prevent overfitting.\n",
    "* Bias is excluded to reduce parameter count.\n",
    "* Task type is set as CAUSAL_LM to align with autoregressive language modeling.\n",
    "\n",
    "#### Integration with PEFT\n",
    "The LoRA configuration is applied to the model using get_peft_model, which introduces trainable adapter layers while keeping most of the original model weights frozen. Finally, print_trainable_parameters() reports the number of trainable parameters, confirming the efficiency of this approach.\n",
    "\n",
    "Purpose: This step enables efficient fine-tuning of TinyLlama by training only a small subset of parameters (LoRA adapters), significantly reducing computational cost and memory requirements compared to full model fine-tuning."
   ]
  },
  {
   "cell_type": "code",
   "execution_count": 4,
   "id": "931be9e7-487a-4a29-899b-7256e6921600",
   "metadata": {},
   "outputs": [
    {
     "name": "stdout",
     "output_type": "stream",
     "text": [
      "trainable params: 19,824,640 || all params: 1,119,873,024 || trainable%: 1.7703\n"
     ]
    }
   ],
   "source": [
    "model = prepare_model_for_kbit_training(model)\n",
    "\n",
    "lora_config = LoraConfig(\n",
    "    r=32,\n",
    "    lora_alpha=64,\n",
    "    target_modules=[\"q_proj\", \"k_proj\", \"v_proj\", \"o_proj\", \"up_proj\", \"down_proj\"],\n",
    "    lora_dropout=0.05,\n",
    "    bias=\"none\",\n",
    "    task_type=TaskType.CAUSAL_LM\n",
    ")\n",
    "\n",
    "model = get_peft_model(model, lora_config)\n",
    "model.print_trainable_parameters()"
   ]
  },
  {
   "cell_type": "code",
   "execution_count": 5,
   "id": "becc6f24-4251-4f29-b3ad-f2db6ea5ecfe",
   "metadata": {},
   "outputs": [],
   "source": [
    "dataset = load_dataset(\"acon96/Home-Assistant-Requests\")\n",
    "train_data = dataset[\"train\"]\n",
    "eval_data = dataset[\"test\"]"
   ]
  },
  {
   "cell_type": "code",
   "execution_count": 6,
   "id": "561cee70-604a-4390-9b0c-5d15848c95f2",
   "metadata": {},
   "outputs": [
    {
     "name": "stdout",
     "output_type": "stream",
     "text": [
      "4.56.0\n"
     ]
    }
   ],
   "source": [
    "import transformers\n",
    "print(transformers.__version__)"
   ]
  },
  {
   "cell_type": "code",
   "execution_count": 7,
   "id": "d05f0146-c898-45bf-8a77-ec838e46d9cc",
   "metadata": {},
   "outputs": [
    {
     "name": "stdout",
     "output_type": "stream",
     "text": [
      "transformers.training_args\n"
     ]
    }
   ],
   "source": [
    "from transformers import TrainingArguments\n",
    "print(TrainingArguments.__module__)"
   ]
  },
  {
   "cell_type": "code",
   "execution_count": 8,
   "id": "25563d17-50b8-4f06-a3a4-62e33e6e4c96",
   "metadata": {},
   "outputs": [],
   "source": [
    "from transformers import TrainingArguments\n",
    "\n",
    "args = TrainingArguments(\n",
    "    output_dir=\"./check\",\n",
    "    eval_strategy=\"steps\",\n",
    ")"
   ]
  },
  {
   "cell_type": "markdown",
   "id": "235b5cbb-635b-4f0b-b0ea-743219a47c81",
   "metadata": {},
   "source": [
    "## Training Configuration"
   ]
  },
  {
   "cell_type": "markdown",
   "id": "b725ddac-42a4-46e0-88ca-dd693041f805",
   "metadata": {},
   "source": [
    "This cell defines the training hyperparameters and runtime settings for fine-tuning TinyLlama using the Hugging Face TrainingArguments class. The key configurations are as follows:\n",
    "\n",
    "* **Epochs and batch size:** Training is conducted for 2 epoch, with per-device batch sizes of two for both training and evaluation. Gradient accumulation over 32 steps effectively increases the batch size without exceeding GPU memory constraints.\n",
    "\n",
    "* **Evaluation and checkpointing:** The evaluation and saving strategies are step-based. Checkpoints are saved every 100 steps, evaluations occur every 50 steps, and a maximum of 20 checkpoints are retained to manage storage.\n",
    "\n",
    "* **Optimization parameters:** The learning rate is set to 1e-5, with a warm-up ratio of 0.03 for stabilizing convergence during the early phase of training. Gradient checkpointing is enabled to reduce memory usage by recomputing intermediate activations.\n",
    "\n",
    "* **Precision and efficiency:** Training leverages bfloat16 (bf16) precision for faster computation and reduced memory footprint. Sequence grouping by length (group_by_length=True) is used to minimize padding overhead and improve efficiency.\n",
    "\n",
    "* **Other settings:** max_steps=-1 ensures training continues until the designated number of epochs is completed, rather than being step-limited.\n",
    "\n",
    "**Purpose:** This configuration establishes an optimized fine-tuning environment, balancing efficiency, checkpointing, and evaluation to adapt TinyLlama for domain-specific voice-based home automation tasks."
   ]
  },
  {
   "cell_type": "code",
   "execution_count": 7,
   "id": "6fabec99-395d-4c25-baf0-da5475654278",
   "metadata": {},
   "outputs": [],
   "source": [
    "training_args = TrainingArguments(\n",
    "    output_dir=\"./tinyllama-1.1b-lora\",\n",
    "    run_name=\"home-llm\",\n",
    "    num_train_epochs=2,\n",
    "    per_device_train_batch_size=2,\n",
    "    per_device_eval_batch_size=2,\n",
    "    gradient_accumulation_steps=32,  # 64 / 2\n",
    "    eval_strategy=\"steps\",\n",
    "    save_strategy=\"steps\",\n",
    "    save_steps=100,\n",
    "    eval_steps=50,\n",
    "    logging_steps=2,\n",
    "    save_total_limit=20,\n",
    "    learning_rate=1e-5,\n",
    "    warmup_ratio=0.03,\n",
    "    bf16=True,\n",
    "    logging_dir=\"./logs\",\n",
    "    gradient_checkpointing=True,\n",
    "    group_by_length=True,\n",
    "    max_steps=-1,\n",
    ")"
   ]
  },
  {
   "cell_type": "markdown",
   "id": "af7ec980-60f9-48be-bb80-02745b00e9d8",
   "metadata": {},
   "source": [
    "The chosen hyperparameters are motivated by the resource constraints of deployment platforms such as **Raspberry Pi:**\n",
    "\n",
    "* A **low learning rate** ensures stable convergence when adapting a large pre-trained model to a smaller, domain-specific dataset, preventing overfitting and catastrophic forgetting.\n",
    "\n",
    "* **Gradient accumulation** enables the simulation of a larger effective batch size despite limited GPU memory, making the fine-tuning process feasible on modest hardware setups.\n",
    "\n",
    "* Memory-efficient techniques such as **bfloat16 precision** and gradient checkpointing mirror the optimization strategies required when deploying on edge devices with limited computational resources."
   ]
  },
  {
   "cell_type": "code",
   "execution_count": 14,
   "id": "7951002b-eca9-497a-a279-9ce1ea916f14",
   "metadata": {},
   "outputs": [
    {
     "name": "stdout",
     "output_type": "stream",
     "text": [
      "Defaulting to user installation because normal site-packages is not writeable\n",
      "Requirement already satisfied: jinja2 in /usr/lib/python3/dist-packages (3.0.3)\n",
      "Collecting jinja2\n",
      "  Downloading jinja2-3.1.6-py3-none-any.whl.metadata (2.9 kB)\n",
      "Requirement already satisfied: MarkupSafe>=2.0 in /usr/lib/python3/dist-packages (from jinja2) (2.0.1)\n",
      "Downloading jinja2-3.1.6-py3-none-any.whl (134 kB)\n",
      "\u001b[33mWARNING: Error parsing dependencies of devscripts: Invalid version: '2.22.1ubuntu1'\u001b[0m\u001b[33m\n",
      "\u001b[0mInstalling collected packages: jinja2\n",
      "Successfully installed jinja2-3.1.6\n"
     ]
    }
   ],
   "source": [
    "!pip install --upgrade \"jinja2\""
   ]
  },
  {
   "cell_type": "code",
   "execution_count": 10,
   "id": "2752c726-8c50-4d29-93d6-eab12fe1a578",
   "metadata": {},
   "outputs": [
    {
     "name": "stdout",
     "output_type": "stream",
     "text": [
      "Name: Jinja2\n",
      "Version: 3.1.6\n",
      "Summary: A very fast and expressive template engine.\n",
      "Home-page: \n",
      "Author: \n",
      "Author-email: \n",
      "License: \n",
      "Location: /home/ubuntu/.local/lib/python3.10/site-packages\n",
      "Requires: MarkupSafe\n",
      "Required-by: jupyter_server, jupyterlab, jupyterlab_server, nbconvert, torch\n"
     ]
    }
   ],
   "source": [
    "!pip show jinja2"
   ]
  },
  {
   "cell_type": "markdown",
   "id": "14e1950b-c187-4c1a-892a-7ea7cf4095c5",
   "metadata": {},
   "source": [
    "## Supervised Fine-Tuning execution"
   ]
  },
  {
   "cell_type": "markdown",
   "id": "0bfd03e5-b342-49b1-8866-8ac2e45ec108",
   "metadata": {},
   "source": [
    "This cell initiates the supervised fine-tuning (SFT) process using the SFTTrainer class from the TRL (Transformers Reinforcement Learning) library.\n",
    "The fine-tuning is configured with the LoRA-adapted TinyLlama model, training and evaluation datasets (train_data and eval_data), and the previously defined training_args."
   ]
  },
  {
   "cell_type": "code",
   "execution_count": 8,
   "id": "f0ba6116-83ca-431e-a996-069da9a4eff4",
   "metadata": {},
   "outputs": [
    {
     "name": "stderr",
     "output_type": "stream",
     "text": [
      "Trainer.tokenizer is now deprecated. You should use `Trainer.processing_class = processing_class` instead.\n",
      "The tokenizer has new PAD/BOS/EOS tokens that differ from the model config and generation config. The model config and generation config were aligned accordingly, being updated with the tokenizer's values. Updated tokens: {'pad_token_id': 2}.\n",
      "`use_cache=True` is incompatible with gradient checkpointing. Setting `use_cache=False`.\n"
     ]
    },
    {
     "data": {
      "text/html": [
       "\n",
       "    <div>\n",
       "      \n",
       "      <progress value='1044' max='1044' style='width:300px; height:20px; vertical-align: middle;'></progress>\n",
       "      [1044/1044 5:21:53, Epoch 2/2]\n",
       "    </div>\n",
       "    <table border=\"1\" class=\"dataframe\">\n",
       "  <thead>\n",
       " <tr style=\"text-align: left;\">\n",
       "      <th>Step</th>\n",
       "      <th>Training Loss</th>\n",
       "      <th>Validation Loss</th>\n",
       "    </tr>\n",
       "  </thead>\n",
       "  <tbody>\n",
       "    <tr>\n",
       "      <td>50</td>\n",
       "      <td>1.776100</td>\n",
       "      <td>1.351045</td>\n",
       "    </tr>\n",
       "    <tr>\n",
       "      <td>100</td>\n",
       "      <td>0.769100</td>\n",
       "      <td>0.820795</td>\n",
       "    </tr>\n",
       "    <tr>\n",
       "      <td>150</td>\n",
       "      <td>0.576900</td>\n",
       "      <td>0.675414</td>\n",
       "    </tr>\n",
       "    <tr>\n",
       "      <td>200</td>\n",
       "      <td>0.499000</td>\n",
       "      <td>0.604630</td>\n",
       "    </tr>\n",
       "    <tr>\n",
       "      <td>250</td>\n",
       "      <td>0.485400</td>\n",
       "      <td>0.556057</td>\n",
       "    </tr>\n",
       "    <tr>\n",
       "      <td>300</td>\n",
       "      <td>0.441500</td>\n",
       "      <td>0.518578</td>\n",
       "    </tr>\n",
       "    <tr>\n",
       "      <td>350</td>\n",
       "      <td>0.444900</td>\n",
       "      <td>0.487794</td>\n",
       "    </tr>\n",
       "    <tr>\n",
       "      <td>400</td>\n",
       "      <td>0.411300</td>\n",
       "      <td>0.460252</td>\n",
       "    </tr>\n",
       "    <tr>\n",
       "      <td>450</td>\n",
       "      <td>0.399300</td>\n",
       "      <td>0.438027</td>\n",
       "    </tr>\n",
       "    <tr>\n",
       "      <td>500</td>\n",
       "      <td>0.384100</td>\n",
       "      <td>0.421315</td>\n",
       "    </tr>\n",
       "    <tr>\n",
       "      <td>550</td>\n",
       "      <td>0.397600</td>\n",
       "      <td>0.405259</td>\n",
       "    </tr>\n",
       "    <tr>\n",
       "      <td>600</td>\n",
       "      <td>0.388200</td>\n",
       "      <td>0.397949</td>\n",
       "    </tr>\n",
       "    <tr>\n",
       "      <td>650</td>\n",
       "      <td>0.396500</td>\n",
       "      <td>0.393120</td>\n",
       "    </tr>\n",
       "    <tr>\n",
       "      <td>700</td>\n",
       "      <td>0.393300</td>\n",
       "      <td>0.388836</td>\n",
       "    </tr>\n",
       "    <tr>\n",
       "      <td>750</td>\n",
       "      <td>0.382600</td>\n",
       "      <td>0.385545</td>\n",
       "    </tr>\n",
       "    <tr>\n",
       "      <td>800</td>\n",
       "      <td>0.375200</td>\n",
       "      <td>0.382941</td>\n",
       "    </tr>\n",
       "    <tr>\n",
       "      <td>850</td>\n",
       "      <td>0.369600</td>\n",
       "      <td>0.381186</td>\n",
       "    </tr>\n",
       "    <tr>\n",
       "      <td>900</td>\n",
       "      <td>0.374900</td>\n",
       "      <td>0.379591</td>\n",
       "    </tr>\n",
       "    <tr>\n",
       "      <td>950</td>\n",
       "      <td>0.371300</td>\n",
       "      <td>0.378326</td>\n",
       "    </tr>\n",
       "    <tr>\n",
       "      <td>1000</td>\n",
       "      <td>0.379900</td>\n",
       "      <td>0.377738</td>\n",
       "    </tr>\n",
       "  </tbody>\n",
       "</table><p>"
      ],
      "text/plain": [
       "<IPython.core.display.HTML object>"
      ]
     },
     "metadata": {},
     "output_type": "display_data"
    },
    {
     "data": {
      "text/plain": [
       "TrainOutput(global_step=1044, training_loss=0.5305675562770887, metrics={'train_runtime': 19333.327, 'train_samples_per_second': 3.451, 'train_steps_per_second': 0.054, 'total_flos': 3.2632662504994406e+17, 'train_loss': 0.5305675562770887})"
      ]
     },
     "execution_count": 8,
     "metadata": {},
     "output_type": "execute_result"
    }
   ],
   "source": [
    "from trl import SFTTrainer\n",
    "\n",
    "trainer = SFTTrainer(\n",
    "    model=model,\n",
    "    #tokenizer = tokenizer,\n",
    "    train_dataset=train_data,\n",
    "    eval_dataset=eval_data,\n",
    "    args=training_args,\n",
    "    #max_seq_length=2048,\n",
    "    #packing=False\n",
    ")\n",
    "\n",
    "# Set tokenizer after initialization\n",
    "trainer.tokenizer = tokenizer\n",
    "\n",
    "trainer.train()"
   ]
  },
  {
   "cell_type": "code",
   "execution_count": 9,
   "id": "16797e2a-4e6c-4f3f-93cf-3709f1db192b",
   "metadata": {},
   "outputs": [
    {
     "data": {
      "image/png": "[encoded data removed]",
      "text/plain": [
       "<Figure size 800x500 with 1 Axes>"
      ]
     },
     "metadata": {},
     "output_type": "display_data"
    }
   ],
   "source": [
    "import matplotlib.pyplot as plt\n",
    "\n",
    "# Collect logs from trainer\n",
    "logs = trainer.state.log_history\n",
    "\n",
    "train_steps = []\n",
    "train_losses = []\n",
    "eval_steps = []\n",
    "eval_losses = []\n",
    "\n",
    "for entry in logs:\n",
    "    if \"loss\" in entry and \"step\" in entry:\n",
    "        train_steps.append(entry[\"step\"])\n",
    "        train_losses.append(entry[\"loss\"])\n",
    "    if \"eval_loss\" in entry and \"step\" in entry:\n",
    "        eval_steps.append(entry[\"step\"])\n",
    "        eval_losses.append(entry[\"eval_loss\"])\n",
    "\n",
    "plt.figure(figsize=(8, 5))\n",
    "plt.plot(train_steps, train_losses, label=\"Training Loss\", marker='o')\n",
    "plt.plot(eval_steps, eval_losses, label=\"Validation Loss\", marker='x')\n",
    "plt.xlabel(\"Steps\")\n",
    "plt.ylabel(\"Loss\")\n",
    "plt.title(\"Training vs Validation Loss\")\n",
    "plt.legend()\n",
    "plt.grid(True)\n",
    "plt.show()\n"
   ]
  },
  {
   "cell_type": "markdown",
   "id": "3b71d9d4-7ced-4024-870a-41bdbb62e9b7",
   "metadata": {},
   "source": [
    "### Results interpretation - Training 2\n",
    "\n",
    "**Setup:**\n",
    "\n",
    "* r=32, lora_alpha=64\n",
    "* lr = 1e-5\n",
    "* batch size: 2 × 32 = 64\n",
    "*epochs: 2\n",
    "\n",
    "**Loss curve:**\n",
    "\n",
    "* Training loss: 1.77 → 0.37\n",
    "* Validation loss: 1.35 → 0.37\n",
    "  \n",
    "**Observations** \n",
    "\n",
    "* Loss steadily decreased (good).\n",
    "* Ended around 0.37 val loss, which is respectable.\n",
    "* But learning was slower and plateaued at ~0.37, meaning it's underfitting slightly."
   ]
  },
  {
   "cell_type": "markdown",
   "id": "d90fdaf1-1601-460f-882f-0bfb1bf51b4b",
   "metadata": {},
   "source": [
    "## Saving the trained model"
   ]
  },
  {
   "cell_type": "code",
   "execution_count": 12,
   "id": "7d10883a-fa56-4b8f-a50b-067a1f3706e8",
   "metadata": {},
   "outputs": [
    {
     "data": {
      "text/plain": [
       "('./tinyllama-1.1b-lora-final/tokenizer_config.json',\n",
       " './tinyllama-1.1b-lora-final/special_tokens_map.json',\n",
       " './tinyllama-1.1b-lora-final/chat_template.jinja',\n",
       " './tinyllama-1.1b-lora-final/tokenizer.json')"
      ]
     },
     "execution_count": 12,
     "metadata": {},
     "output_type": "execute_result"
    }
   ],
   "source": [
    "# Save Final Model\n",
    "trainer.save_model(\"./tinyllama-1.1b-lora-final\")\n",
    "tokenizer.save_pretrained(\"./tinyllama-1.1b-lora-final\")"
   ]
  },
  {
   "cell_type": "markdown",
   "id": "5e626c8e-0ae0-45d1-b7df-39ed3526b029",
   "metadata": {},
   "source": [
    "# Brief Evaluation"
   ]
  },
  {
   "cell_type": "code",
   "execution_count": 1,
   "id": "765b953d-477f-4adb-bc5e-18f7496c3e49",
   "metadata": {},
   "outputs": [],
   "source": [
    "import torch\n",
    "from transformers import AutoTokenizer, AutoModelForCausalLM\n",
    "import pandas as pd"
   ]
  },
  {
   "cell_type": "code",
   "execution_count": 2,
   "id": "114f07bd-4cef-4f60-9603-c59d864f7195",
   "metadata": {},
   "outputs": [],
   "source": [
    "model_path = \"./tinyllama-1.1b-lora-final\" \n",
    "tokenizer = AutoTokenizer.from_pretrained(model_path)\n",
    "model = AutoModelForCausalLM.from_pretrained(model_path, torch_dtype=torch.float16, device_map=\"auto\")\n"
   ]
  },
  {
   "cell_type": "code",
   "execution_count": 3,
   "id": "e9486e30-db9b-45b2-b86b-d5a3f4f20394",
   "metadata": {},
   "outputs": [],
   "source": [
    "SYSTEM_PROMPT = \"\"\"You are 'Al', a helpful AI Assistant that controls the devices in a house. Complete the following task as instructed or answer the following question with the information provided only.\n",
    "Services: cover.close_cover(), cover.open_cover(), cover.stop_cover(), cover.toggle(), climate.set_fan_mode(fan_mode), climate.set_humidity(humidity), climate.set_hvac_mode(), climate.set_preset_mode(), climate.set_temperature(temperature), climate.toggle(), climate.turn_off(), climate.turn_on(), fan.decrease_speed(), fan.increase_speed(), fan.toggle(), fan.turn_off(), fan.turn_on(), light.toggle(), light.turn_off(), light.turn_on(rgb_color,brightness), lock.lock(), lock.unlock(), media_player.media_next_track(), media_player.media_pause(), media_player.media_play(), media_player.media_play_pause(), media_player.media_previous_track(), media_player.media_stop(), media_player.toggle(), media_player.turn_off(), media_player.turn_on(), media_player.volume_down(), media_player.volume_mute(), media_player.volume_up(), switch.toggle(), switch.turn_off(), switch.turn_on(), timer.add_item(item), timer.cancel(), timer.pause()\n",
    "Devices:\n",
    "lock.home_theater 'Home Theater Lock' = unlocked\n",
    "media_player.samsung_qled_tv 'Samsung Quantum Dot TV' = off\n",
    "climate.nest_learning 'Nest Learning Thermostat' = off;On High;75F;67%\n",
    "switch.closet_lighting 'Closet lighting control' = off\n",
    "switch.study_room_lights 'Study Room Lights Switch' = off\n",
    "media_player.harman_kardon_aura 'Harman Kardon Glass Speaker' = off\n",
    "light.back_zen_warm 'Back Zen Light' = on;gray (146, 120, 139);69%\n",
    "light.kitchen_island_cool 'Kitchen Island Cool Light' = on;darkolivegreen (78, 109, 32);42%\n",
    "media_player.study_room_audio_book_player 'Study Audio Book Player' = off\n",
    "light.study_3 'Study Lights' = on;deepskyblue (10, 194, 244);45%\n",
    "fan.bathroom_down 'Fan in downstairs bathroom' = off\n",
    "lock.wine_cellar 'Wine Cellar Lock' = unlocked\n",
    "media_player.entryway_voice_assistant 'Entryway Voice Assistant' = playing;No Manches Frida;vol=0.22\n",
    "light.back_observatory_warm 'Back Observatory Warm Light' = on;silver (199, 172, 207)\n",
    "lock.vehicle_gate 'Vehicle gate lock' = unlocked\n",
    "todo.home_renovation_planner 'Home renovation scheduler' = 17\n",
    "cover.sunroom 'Sunroom Blinds' = closed\n",
    "light.garden 'Garden Light' = on;chocolate (236, 93, 25);41%\n",
    "light.upstairs_playroom_zwave 'Upstairs Playroom Light' = on;plum (194, 142, 215);10%\n",
    "lock.workshop_cabinet 'Workshop cabinet lock' = locked\n",
    "media_player.lounge_hi_fi_system 'Lounge Hi-Fi Audio' = on;Nosferatu: Kino Classics;vol=0.22\n",
    "light.back_family_room_warm 'Back Family Room Warm Light' = off\n",
    "cover.kitchen 'Kitchen' = closed\n",
    "light.back_arcade_warm 'Back Arcade Warm Light' = off;60%\n",
    "light.upstairs_closet_zwave 'Upstairs Closet Light' = off;yellowgreen (131, 188, 85);95%\n",
    "light.downstairs_cinema_mqtt 'Downstairs Cinema Light' = off;lightseagreen (13, 159, 192);91%\n",
    "light.front_arcade_ge 'Front Arcade Light' = on;13%\n",
    "\"\"\"\n",
    "\n",
    "def build_prompt(user_input):\n",
    "    return f\"<|system|>\\n{SYSTEM_PROMPT.strip()}\\n<|user|>\\n{user_input.strip()}\\n<|assistant|>\\n\"\n"
   ]
  },
  {
   "cell_type": "code",
   "execution_count": 4,
   "id": "f465e480-b29b-4458-b099-a595f95c2598",
   "metadata": {},
   "outputs": [
    {
     "name": "stdout",
     "output_type": "stream",
     "text": [
      "\n",
      "[User]: lower the kitchen blinds\n",
      "[Model Response]: downing the blinds.\n",
      "```\n",
      "\n",
      "[User]: turn off all the lights\n",
      "[Model Response]: sure, here comes the light turn-off.\n",
      "\n",
      "[User]: lock the wine cellar\n",
      "[Model Response]: wine cellar locked\n",
      "\n",
      "[User]: play some music in the lounge\n",
      "[Model Response]: starting with 'chocolate'\n",
      "```\n",
      "\n",
      "[User]: set the thermostat to 70F\n",
      "[Model Response]: setting the thermostat to 70F\n",
      "```\n"
     ]
    }
   ],
   "source": [
    "# Add your user inputs here\n",
    "user_inputs = [\n",
    "    \"lower the kitchen blinds\",\n",
    "    \"turn off all the lights\",\n",
    "    \"lock the wine cellar\",\n",
    "    \"play some music in the lounge\",\n",
    "    \"set the thermostat to 70F\"\n",
    "]\n",
    "\n",
    "results = []\n",
    "\n",
    "for user_input in user_inputs:\n",
    "    prompt = build_prompt(user_input)\n",
    "    inputs = tokenizer(prompt, return_tensors=\"pt\").to(model.device)\n",
    "\n",
    "    outputs = model.generate(\n",
    "        **inputs,\n",
    "        max_new_tokens=100,\n",
    "        temperature=0.7,\n",
    "        do_sample=True,\n",
    "        top_p=0.9,\n",
    "        eos_token_id=tokenizer.eos_token_id,\n",
    "        pad_token_id=tokenizer.pad_token_id\n",
    "    )\n",
    "\n",
    "    decoded_output = tokenizer.decode(outputs[0], skip_special_tokens=True)\n",
    "    model_response = decoded_output.split(\"<|assistant|>\")[-1].strip()\n",
    "    #model_response = decoded_output\n",
    "\n",
    "    print(f\"\\n[User]: {user_input}\\n[Model Response]: {model_response}\")\n",
    "    results.append({\n",
    "        \"user_input\": user_input,\n",
    "        \"model_response\": model_response\n",
    "    })\n"
   ]
  }
 ],
 "metadata": {
  "kernelspec": {
   "display_name": "Python 3 (ipykernel)",
   "language": "python",
   "name": "python3"
  },
  "language_info": {
   "codemirror_mode": {
    "name": "ipython",
    "version": 3
   },
   "file_extension": ".py",
   "mimetype": "text/x-python",
   "name": "python",
   "nbconvert_exporter": "python",
   "pygments_lexer": "ipython3",
   "version": "3.10.12"
  }
 },
 "nbformat": 4,
 "nbformat_minor": 5
}
